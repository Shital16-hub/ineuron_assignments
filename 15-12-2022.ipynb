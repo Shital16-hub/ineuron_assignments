{
 "cells": [
  {
   "cell_type": "markdown",
   "id": "8c4d90c6",
   "metadata": {},
   "source": [
    "#### WAP to accept an integer from the user and check whether it is an even or odd"
   ]
  },
  {
   "cell_type": "code",
   "execution_count": 11,
   "id": "b6e01df9",
   "metadata": {},
   "outputs": [
    {
     "name": "stdout",
     "output_type": "stream",
     "text": [
      "Enter your number25\n",
      "Number 25.0 is odd\n"
     ]
    }
   ],
   "source": [
    "# Accepting input from user\n",
    "num = float(input(\"Enter your number\"))\n",
    "\n",
    "#checking if number is even \n",
    "if num%2 == 0:\n",
    "    #Displaying result\n",
    "    print(f\"Number {num} is even\")\n",
    "else:\n",
    "    #Displaying result\n",
    "    print(f\"Number {num} is odd\")"
   ]
  },
  {
   "cell_type": "markdown",
   "id": "c9bfc5a6",
   "metadata": {},
   "source": [
    "#### WAP to accept a character from the user and check whether it is a capital letter or small letter. Assume user will input only alphabets"
   ]
  },
  {
   "cell_type": "code",
   "execution_count": 14,
   "id": "073e5ff2",
   "metadata": {},
   "outputs": [
    {
     "name": "stdout",
     "output_type": "stream",
     "text": [
      "Enter a character: d\n",
      "The character is a small letter.\n"
     ]
    }
   ],
   "source": [
    "# Accept a character from the user\n",
    "character = input(\"Enter a character: \")\n",
    "\n",
    "# Check if it is a capital letter\n",
    "if character.isupper():\n",
    "    print(\"The character is a capital letter.\")\n",
    "\n",
    "# Check if it is a small letter\n",
    "elif character.islower():\n",
    "    print(\"The character is a small letter.\")\n",
    "\n",
    "# If neither, it is not an alphabet or invalid input\n",
    "else:\n",
    "    print(\"Invalid input! Please enter an alphabet.\")"
   ]
  },
  {
   "cell_type": "markdown",
   "id": "0965de27",
   "metadata": {},
   "source": [
    "#### WAP to accept a character from the user and check whether it is a capital letter or small letter or a digit or some special symbol"
   ]
  },
  {
   "cell_type": "code",
   "execution_count": 15,
   "id": "0abf915f",
   "metadata": {},
   "outputs": [
    {
     "name": "stdout",
     "output_type": "stream",
     "text": [
      "Enter a character: @\n",
      "The character is a special symbol.\n"
     ]
    }
   ],
   "source": [
    "# Accept a character from the user\n",
    "character = input(\"Enter a character: \")\n",
    "\n",
    "# Check if it is a capital letter\n",
    "if character.isupper():\n",
    "    print(\"The character is a capital letter.\")\n",
    "\n",
    "# Check if it is a small letter\n",
    "elif character.islower():\n",
    "    print(\"The character is a small letter.\")\n",
    "\n",
    "# Check if it is a digit\n",
    "elif character.isdigit():\n",
    "    print(\"The character is a digit.\")\n",
    "\n",
    "# Check if it is a special symbol\n",
    "else:\n",
    "    print(\"The character is a special symbol.\")"
   ]
  },
  {
   "cell_type": "markdown",
   "id": "8d720def",
   "metadata": {},
   "source": [
    "#### WAP to accept 3 integers from the user and without using any logical operator and cascading of relational operators , find out the greatest number amongst them"
   ]
  },
  {
   "cell_type": "code",
   "execution_count": null,
   "id": "7f28fc2b",
   "metadata": {},
   "outputs": [],
   "source": [
    "# Accept three integers from the user\n",
    "num1 = int(input(\"Enter the first number: \"))\n",
    "num2 = int(input(\"Enter the second number: \"))\n",
    "num3 = int(input(\"Enter the third number: \"))\n",
    "\n",
    "# Compare the numbers using conditional statements\n",
    "if num1 > num2 and num1 > num3:\n",
    "    greatest = num1\n",
    "\n",
    "elif num3 > greatest:\n",
    "    greatest = num\n",
    "    \n",
    "else:\n",
    "    greatest = num3\n",
    "\n",
    "# Print the greatest number\n",
    "print(\"The greatest number is:\", greatest)\n"
   ]
  }
 ],
 "metadata": {
  "kernelspec": {
   "display_name": "Python 3 (ipykernel)",
   "language": "python",
   "name": "python3"
  },
  "language_info": {
   "codemirror_mode": {
    "name": "ipython",
    "version": 3
   },
   "file_extension": ".py",
   "mimetype": "text/x-python",
   "name": "python",
   "nbconvert_exporter": "python",
   "pygments_lexer": "ipython3",
   "version": "3.10.9"
  }
 },
 "nbformat": 4,
 "nbformat_minor": 5
}
