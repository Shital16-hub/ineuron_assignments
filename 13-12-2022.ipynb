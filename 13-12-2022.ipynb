{
 "cells": [
  {
   "cell_type": "markdown",
   "id": "576e2cbb",
   "metadata": {},
   "source": [
    "#### WAP to accept two numbers from the user and display their sum"
   ]
  },
  {
   "cell_type": "code",
   "execution_count": 1,
   "id": "a9af2c65",
   "metadata": {},
   "outputs": [
    {
     "name": "stdout",
     "output_type": "stream",
     "text": [
      "Enter the first number: 21\n",
      "Enter the second number: 22\n",
      "The sum of 21.0 and 22.0 is 43.0\n"
     ]
    }
   ],
   "source": [
    "# Accepting two numbers from the user\n",
    "num1 = float(input(\"Enter the first number: \"))\n",
    "num2 = float(input(\"Enter the second number: \"))\n",
    "\n",
    "# Calculating the sum\n",
    "sum = num1 + num2\n",
    "\n",
    "# Displaying the sum\n",
    "print(\"The sum of\", num1, \"and\", num2, \"is\", sum)"
   ]
  },
  {
   "cell_type": "markdown",
   "id": "f025ca37",
   "metadata": {},
   "source": [
    "#### WAP to accept radius of a Circle from the user and calculate area and circumference"
   ]
  },
  {
   "cell_type": "code",
   "execution_count": 6,
   "id": "036af466",
   "metadata": {},
   "outputs": [
    {
     "name": "stdout",
     "output_type": "stream",
     "text": [
      "Enter the value of radus in cm:12\n",
      "Area of circle is  452.3893421169302 cm^2\n",
      "circumference of circle is  75.39822368615503 cm\n"
     ]
    }
   ],
   "source": [
    "import math\n",
    "\n",
    "pi = math.pi\n",
    "\n",
    "# accepting radius of a Circle from the use\n",
    "r = float(input(\"Enter the value of radus in cm:\"))\n",
    "\n",
    "# Area calulatiuon\n",
    "area = pi*r**2\n",
    "\n",
    "#Circumference\n",
    "circumference = 2*pi*r\n",
    "\n",
    "#Displying the area and circumference\n",
    "print(\"Area of circle is \",area,\"cm^2\")\n",
    "print(\"circumference of circle is \",circumference,\"cm\")"
   ]
  },
  {
   "cell_type": "markdown",
   "id": "bbc5cfd9",
   "metadata": {},
   "source": [
    "#### WAP to accept roll number , grade and percentage as input from the user and display it back"
   ]
  },
  {
   "cell_type": "code",
   "execution_count": 8,
   "id": "eb7568d6",
   "metadata": {},
   "outputs": [
    {
     "name": "stdout",
     "output_type": "stream",
     "text": [
      "Enter your roll number: 15\n",
      "Enter your grade: A+\n",
      "Enter your percentage: 87.86\n",
      "Roll Number: 15\n",
      "Grade: A+\n",
      "Percentage: 87.86\n"
     ]
    }
   ],
   "source": [
    "# Accepting input from the user\n",
    "roll_number = input(\"Enter your roll number: \")\n",
    "grade = input(\"Enter your grade: \")\n",
    "percentage = float(input(\"Enter your percentage: \"))\n",
    "\n",
    "# Displaying the input back to the user\n",
    "print(\"Roll Number:\", roll_number)\n",
    "print(\"Grade:\", grade)\n",
    "print(\"Percentage:\", percentage)"
   ]
  },
  {
   "cell_type": "markdown",
   "id": "2119d9a3",
   "metadata": {},
   "source": [
    "#### Write a program that asks the user to enter his/her name and age. Print out a message , displaying the user’s name along with the year in which they will turn 100 years old."
   ]
  },
  {
   "cell_type": "code",
   "execution_count": 9,
   "id": "0419995a",
   "metadata": {},
   "outputs": [
    {
     "name": "stdout",
     "output_type": "stream",
     "text": [
      "Enter your name: Shital\n",
      "Enter your age: 30\n",
      "Hello Shital, you will turn 100 years old in the year 2093.\n"
     ]
    }
   ],
   "source": [
    "import datetime\n",
    "\n",
    "# Accepting input from the user\n",
    "name = input(\"Enter your name: \")\n",
    "age = int(input(\"Enter your age: \"))\n",
    "\n",
    "# Calculating the year when the user will turn 100\n",
    "current_year = datetime.datetime.now().year\n",
    "year_of_100 = current_year + (100 - age)\n",
    "\n",
    "# Displaying the message\n",
    "message = f\"Hello {name}, you will turn 100 years old in the year {year_of_100}.\"\n",
    "print(message)"
   ]
  },
  {
   "cell_type": "markdown",
   "id": "966d6561",
   "metadata": {},
   "source": [
    "#### Write a program that asks the user to input 2 integers and adds them . Accept both the numbers in a single line only\n"
   ]
  },
  {
   "cell_type": "code",
   "execution_count": 11,
   "id": "0870242f",
   "metadata": {},
   "outputs": [
    {
     "name": "stdout",
     "output_type": "stream",
     "text": [
      "Enter two integers separated by a space: 12 23\n",
      "The sum of 12 and 23 is 35\n"
     ]
    }
   ],
   "source": [
    "# Accepting input from the user\n",
    "numbers = input(\"Enter two integers separated by a space: \")\n",
    "\n",
    "# Splitting the input into two separate numbers\n",
    "num1, num2 = map(int, numbers.split())\n",
    "\n",
    "# Calculating the sum\n",
    "sum = num1 + num2\n",
    "\n",
    "# Displaying the sum\n",
    "print(\"The sum of\", num1, \"and\", num2, \"is\", sum)"
   ]
  },
  {
   "cell_type": "markdown",
   "id": "5710034d",
   "metadata": {},
   "source": [
    "#### Write a Python program which accepts the user's first and last name and print them in reverse order with a space between them."
   ]
  },
  {
   "cell_type": "code",
   "execution_count": 17,
   "id": "dea9953b",
   "metadata": {},
   "outputs": [
    {
     "name": "stdout",
     "output_type": "stream",
     "text": [
      "Enter your first name shital\n",
      "Enter your last name nandre\n",
      "latihs erdnan\n"
     ]
    }
   ],
   "source": [
    "# Accepting input from the user\n",
    "name = input(\"Enter your first name \")\n",
    "last_name = input(\"Enter your last name \")\n",
    "\n",
    "# Reversing the name and last name\n",
    "rev_name = name[::-1]\n",
    "rev_last_name = last_name[::-1]\n",
    "\n",
    "# Displaying output\n",
    "print(rev_name+\" \"+rev_last_name)"
   ]
  },
  {
   "cell_type": "code",
   "execution_count": null,
   "id": "82844ec6",
   "metadata": {},
   "outputs": [],
   "source": []
  }
 ],
 "metadata": {
  "kernelspec": {
   "display_name": "Python 3 (ipykernel)",
   "language": "python",
   "name": "python3"
  },
  "language_info": {
   "codemirror_mode": {
    "name": "ipython",
    "version": 3
   },
   "file_extension": ".py",
   "mimetype": "text/x-python",
   "name": "python",
   "nbconvert_exporter": "python",
   "pygments_lexer": "ipython3",
   "version": "3.10.9"
  }
 },
 "nbformat": 4,
 "nbformat_minor": 5
}
